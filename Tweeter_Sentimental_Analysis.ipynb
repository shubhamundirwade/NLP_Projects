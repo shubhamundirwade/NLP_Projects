{
 "cells": [
  {
   "cell_type": "markdown",
   "metadata": {},
   "source": [
    "Kyes: <br>\n",
    "API Key: qYkbR2yQ0Sq6TjwLrxblGxnQq\n",
    "<br>\n",
    "API Key Secret\n",
    "AUNdgizVbIOlbHhBvZgkYNNksvU2Q5ogfrjzm01ojpkvIBlqtz\n",
    "<br>\n",
    "Access Token:\n",
    "752673932340187140-5KkkuybSf5QLk1dt7Lq65Si5wXqLmTW\n",
    "<br>\n",
    "Access Token Secret:\n",
    "kgGm6n4QbRNvAvmZwAlKyCg8AcljGtWJ15hSvSCxii1lL\n",
    "\n",
    "<br>\n",
    "Bearer Token: \n",
    "AAAAAAAAAAAAAAAAAAAAAKgzdAEAAAAAJLCj6SHmi7A9FEatJG4m5GEjhrU%3DNhpqA29ALA2C7RHjkunnjzs8qRuj7sto1cx6jnrCiaWArqUity"
   ]
  },
  {
   "cell_type": "markdown",
   "metadata": {},
   "source": [
    "## Importing Packages and Loading files"
   ]
  },
  {
   "cell_type": "code",
   "execution_count": 126,
   "metadata": {},
   "outputs": [],
   "source": [
    "from textblob import TextBlob\n",
    "import tweepy\n",
    "import matplotlib.pyplot as plt"
   ]
  },
  {
   "cell_type": "markdown",
   "metadata": {},
   "source": [
    "### Connecting with the Twitter API"
   ]
  },
  {
   "cell_type": "code",
   "execution_count": 127,
   "metadata": {},
   "outputs": [],
   "source": [
    "# Assigning keys and secret keys\n",
    "\n",
    "consumer_key = 'qYkbR2yQ0Sq6TjwLrxblGxnQq'\n",
    "consumer_secret = 'AUNdgizVbIOlbHhBvZgkYNNksvU2Q5ogfrjzm01ojpkvIBlqtz'\n",
    "access_token = '752673932340187140-5KkkuybSf5QLk1dt7Lq65Si5wXqLmTW'\n",
    "access_token_secret = 'kgGm6n4QbRNvAvmZwAlKyCg8AcljGtWJ15hSvSCxii1lL'\n",
    "bearer_key = 'AAAAAAAAAAAAAAAAAAAAAKgzdAEAAAAAJLCj6SHmi7A9FEatJG4m5GEjhrU%3DNhpqA29ALA2C7RHjkunnjzs8qRuj7sto1cx6jnrCiaWArqUity'"
   ]
  },
  {
   "cell_type": "code",
   "execution_count": 128,
   "metadata": {},
   "outputs": [],
   "source": [
    "\n",
    "# auth = tweepy.OAuth1UserHandler(consumer_key, consumer_secret, bearer_key)\n",
    "# # auth.set_access_token(access_token, access_token_secret)\n",
    " \n",
    "# # api = tweepy.API(auth)\n",
    "# # search_term = 'Money Heist'\n",
    "# # no_of_tweets = 100\n",
    "# # tweets = tweepy.Cursor(api.search_tweets, q = search_term).items(no_of_tweets)"
   ]
  },
  {
   "cell_type": "code",
   "execution_count": 129,
   "metadata": {},
   "outputs": [],
   "source": [
    "# Authenticating server\n",
    "\n",
    "client = tweepy.Client(consumer_key= consumer_key,\n",
    "                        consumer_secret= consumer_secret,\n",
    "                        access_token= access_token,\n",
    "                        access_token_secret= access_token_secret, \n",
    "                        bearer_token=bearer_key)"
   ]
  },
  {
   "cell_type": "code",
   "execution_count": 130,
   "metadata": {},
   "outputs": [
    {
     "data": {
      "text/plain": [
       "tweepy.client.Client"
      ]
     },
     "execution_count": 130,
     "metadata": {},
     "output_type": "execute_result"
    }
   ],
   "source": [
    "# to find the type of api\n",
    "type(client)"
   ]
  },
  {
   "cell_type": "markdown",
   "metadata": {},
   "source": [
    "### Understanding the working of TextBlob"
   ]
  },
  {
   "cell_type": "code",
   "execution_count": 131,
   "metadata": {},
   "outputs": [],
   "source": [
    "a = 'I am a Bad Cricket player'\n",
    "b = 'I am a good Cricket player'\n",
    "c = 'I am a Cricket player'"
   ]
  },
  {
   "cell_type": "code",
   "execution_count": 132,
   "metadata": {},
   "outputs": [
    {
     "data": {
      "text/plain": [
       "Sentiment(polarity=-0.6999999999999998, subjectivity=0.6666666666666666)"
      ]
     },
     "execution_count": 132,
     "metadata": {},
     "output_type": "execute_result"
    }
   ],
   "source": [
    "TextBlob(a).sentiment"
   ]
  },
  {
   "cell_type": "code",
   "execution_count": 133,
   "metadata": {},
   "outputs": [
    {
     "data": {
      "text/plain": [
       "-0.6999999999999998"
      ]
     },
     "execution_count": 133,
     "metadata": {},
     "output_type": "execute_result"
    }
   ],
   "source": [
    "TextBlob(a).sentiment .polarity"
   ]
  },
  {
   "cell_type": "code",
   "execution_count": 134,
   "metadata": {},
   "outputs": [
    {
     "data": {
      "text/plain": [
       "Sentiment(polarity=0.7, subjectivity=0.6000000000000001)"
      ]
     },
     "execution_count": 134,
     "metadata": {},
     "output_type": "execute_result"
    }
   ],
   "source": [
    "TextBlob(b).sentiment #.polarity"
   ]
  },
  {
   "cell_type": "code",
   "execution_count": 135,
   "metadata": {},
   "outputs": [
    {
     "data": {
      "text/plain": [
       "Sentiment(polarity=0.0, subjectivity=0.0)"
      ]
     },
     "execution_count": 135,
     "metadata": {},
     "output_type": "execute_result"
    }
   ],
   "source": [
    "TextBlob(c).sentiment #.polarity"
   ]
  },
  {
   "cell_type": "markdown",
   "metadata": {},
   "source": [
    "### Iterate the data and convert the result in percentage"
   ]
  },
  {
   "cell_type": "code",
   "execution_count": 136,
   "metadata": {},
   "outputs": [],
   "source": [
    "positive = 0\n",
    "negative = 0\n",
    "neutral  = 0\n",
    "polarity = 0"
   ]
  },
  {
   "cell_type": "code",
   "execution_count": 137,
   "metadata": {},
   "outputs": [],
   "source": [
    "# Searching name of the tweet\n",
    "search_term = 'money heist'\n",
    "no_of_tweets = 100\n",
    "\n",
    "# Fetching tweets\n",
    "tweets = client.search_recent_tweets(query=search_term, max_results=100)"
   ]
  },
  {
   "cell_type": "code",
   "execution_count": 138,
   "metadata": {},
   "outputs": [
    {
     "name": "stdout",
     "output_type": "stream",
     "text": [
      "@MPelletierCIO It's about preparing the ground to transfer free money to political insiders. The biggest heist in human history is near.\n",
      "@ruestyls definitely excited for insider and money heist korea !\n",
      "OMG MONEY HEIST KOREA\n",
      "RT @hyem_bot: [220527] 🐹💭 10:08 PM  \n",
      "\n",
      "“i’m looking forward to money heist (korean remake)🥺 jeon jongseo nim is so pretty”\n",
      "\n",
      "“yes you are pre…\n",
      "@Team_Faruqui HALKI SI BARSAAT FT MUNAWAR\n",
      "Money heist\n",
      "RT @KhanzadaTweets: عمران خان نے قوم کو ارتغرل دیکھنے کا مشورہ دیا تھا،\n",
      "شہباز شریف کا \"Money Heist\" اردو میں ڈب کروا کے PTV پہ نشر کرنے کا…\n",
      "RT @NetflixID: Berlin, Tokyo, Denver, Moscow, Rio, Nairobi, Helsinki, dan Oslo udah kumpul untuk perampokan mata uang baru Korea 🔥 Money He…\n",
      "RT @parkhaesoo_pics: Park Hae-soo as Berlin\n",
      "\n",
      "Money Heist: Korea - Joint Economic Area \n",
      "\n",
      "June 24, 2022 on Netflix https://t.co/IGSJjeuiXF\n",
      "RT @iconickdramas: Main poster of the Korean remake of Money Heist 🔥#MoneyHeistKorea_JointEconomicArea https://t.co/yzKqRHAGaf\n",
      "@ruestyls honestly I just wait for the sites to load up which ones are currently airing and new, but ever since I heard Money Heist Korea on the news at like 5AM I've been VERY updated with that lmao\n",
      "RT @mkhundmiri: 'Money Heist' flopped on Spanish TV. \n",
      "\n",
      "Netflix made it a global phenomenon.\n",
      "\n",
      "Doesn't matter how good your product is... \n",
      "\n",
      "I…\n",
      "RT @hyem_bot: [220527] 🐹💭 10:08 PM  \n",
      "\n",
      "“i’m looking forward to money heist (korean remake)🥺 jeon jongseo nim is so pretty”\n",
      "\n",
      "“yes you are pre…\n",
      "Money Heist: Korea – Joint Economic Area Trailer Released. 1 https://t.co/PnnzfDUQAg https://t.co/SCIMiecOVd\n",
      "I still have yet to finish money heist . When I found of Tokyo died I didn’t want to watch anymore 😭\n",
      "RT @hyem_bot: [220527] 🐹💭 10:08 PM  \n",
      "\n",
      "“i’m looking forward to money heist (korean remake)🥺 jeon jongseo nim is so pretty”\n",
      "\n",
      "“yes you are pre…\n",
      "RT @docrocktex26: How much money is set aside for mental health services in the Trump/GOP budget? How many resources were cut to accommodat…\n",
      "RT @hyem_bot: [220527] 🐹💭 10:08 PM  \n",
      "\n",
      "“i’m looking forward to money heist (korean remake)🥺 jeon jongseo nim is so pretty”\n",
      "\n",
      "“yes you are pre…\n",
      "RT @hyem_bot: [220527] 🐹💭 10:08 PM  \n",
      "\n",
      "“i’m looking forward to money heist (korean remake)🥺 jeon jongseo nim is so pretty”\n",
      "\n",
      "“yes you are pre…\n",
      "RT @KhanzadaTweets: عمران خان نے قوم کو ارتغرل دیکھنے کا مشورہ دیا تھا،\n",
      "شہباز شریف کا \"Money Heist\" اردو میں ڈب کروا کے PTV پہ نشر کرنے کا…\n",
      "RT @mokwatiphuti1: Con artist, shoplifter, robbery, money heist 😂😂😂😭😭\n",
      "I'm so finished 😂\n",
      "#LTDWSOMIZI\n",
      "RT @hyem_bot: [220527] 🐹💭 10:08 PM  \n",
      "\n",
      "“i’m looking forward to money heist (korean remake)🥺 jeon jongseo nim is so pretty”\n",
      "\n",
      "“yes you are pre…\n",
      "RT @iconickdramas: Main poster of the Korean remake of Money Heist 🔥#MoneyHeistKorea_JointEconomicArea https://t.co/yzKqRHAGaf\n",
      "RT @KhanzadaTweets: عمران خان نے قوم کو ارتغرل دیکھنے کا مشورہ دیا تھا،\n",
      "شہباز شریف کا \"Money Heist\" اردو میں ڈب کروا کے PTV پہ نشر کرنے کا…\n",
      "Which June kdramas are you guys excited about?? \n",
      "I am mostly for yumi cells 2, why her, money heist Korea, link: eat love kill and cleaning up\n",
      "RT @hyem_bot: [220527] 🐹💭 10:08 PM  \n",
      "\n",
      "“i’m looking forward to money heist (korean remake)🥺 jeon jongseo nim is so pretty”\n",
      "\n",
      "“yes you are pre…\n",
      "RT @hyem_bot: [220527] 🐹💭 10:08 PM  \n",
      "\n",
      "“i’m looking forward to money heist (korean remake)🥺 jeon jongseo nim is so pretty”\n",
      "\n",
      "“yes you are pre…\n",
      "Koo gua jadi kangen vibes awal2 gua nonton peaky blinders, ama money heist yaa 😂\n",
      "@Mrasmat555 Asur \n",
      "Stranger things \n",
      "breaking bad\n",
      "Money heist\n",
      "Squid game\n",
      "baru tau klo money heist dibagi 2 part\n",
      "RT @hyem_bot: [220527] 🐹💭 10:08 PM  \n",
      "\n",
      "“i’m looking forward to money heist (korean remake)🥺 jeon jongseo nim is so pretty”\n",
      "\n",
      "“yes you are pre…\n",
      "RT @docrocktex26: How much money is set aside for mental health services in the Trump/GOP budget? How many resources were cut to accommodat…\n",
      "RT @KhanzadaTweets: عمران خان نے قوم کو ارتغرل دیکھنے کا مشورہ دیا تھا،\n",
      "شہباز شریف کا \"Money Heist\" اردو میں ڈب کروا کے PTV پہ نشر کرنے کا…\n",
      "RT @hyem_bot: [220527] 🐹💭 10:08 PM  \n",
      "\n",
      "“i’m looking forward to money heist (korean remake)🥺 jeon jongseo nim is so pretty”\n",
      "\n",
      "“yes you are pre…\n",
      "RT @NetflixID: Berlin, Tokyo, Denver, Moscow, Rio, Nairobi, Helsinki, dan Oslo udah kumpul untuk perampokan mata uang baru Korea 🔥 Money He…\n",
      "RT @hyem_bot: [220527] 🐹💭 10:08 PM  \n",
      "\n",
      "“i’m looking forward to money heist (korean remake)🥺 jeon jongseo nim is so pretty”\n",
      "\n",
      "“yes you are pre…\n",
      "RT @hyem_bot: [220527] 🐹💭 10:08 PM  \n",
      "\n",
      "“i’m looking forward to money heist (korean remake)🥺 jeon jongseo nim is so pretty”\n",
      "\n",
      "“yes you are pre…\n",
      "RT @2fp_s: Let's get this straight.\n",
      "This #Ukraine section of The Great Wall St Heist is about covering up the #looting of the taxpayers of…\n",
      "RT @hyem_bot: [220527] 🐹💭 10:08 PM  \n",
      "\n",
      "“i’m looking forward to money heist (korean remake)🥺 jeon jongseo nim is so pretty”\n",
      "\n",
      "“yes you are pre…\n",
      "RT @NetflixMY: Dah ready ke untuk geng perompak baru curi hati korang? ⚠️💖 Money Heist: Korea - Joint Economic Area akan datang ke Netflix,…\n",
      "RT @hyem_bot: [220527] 🐹💭 10:08 PM  \n",
      "\n",
      "“i’m looking forward to money heist (korean remake)🥺 jeon jongseo nim is so pretty”\n",
      "\n",
      "“yes you are pre…\n",
      "RT @docrocktex26: How much money is set aside for mental health services in the Trump/GOP budget? How many resources were cut to accommodat…\n",
      "RT @hyem_bot: [220527] 🐹💭 10:08 PM  \n",
      "\n",
      "“i’m looking forward to money heist (korean remake)🥺 jeon jongseo nim is so pretty”\n",
      "\n",
      "“yes you are pre…\n",
      "RT @hyem_bot: [220527] 🐹💭 10:08 PM  \n",
      "\n",
      "“i’m looking forward to money heist (korean remake)🥺 jeon jongseo nim is so pretty”\n",
      "\n",
      "“yes you are pre…\n",
      "RT @hyem_bot: [220527] 🐹💭 10:08 PM  \n",
      "\n",
      "“i’m looking forward to money heist (korean remake)🥺 jeon jongseo nim is so pretty”\n",
      "\n",
      "“yes you are pre…\n",
      "[220527] 🐹💭 10:08 PM  \n",
      "\n",
      "“i’m looking forward to money heist (korean remake)🥺 jeon jongseo nim is so pretty”\n",
      "\n",
      "“yes you are pretty👍🏻”\n",
      "\n",
      "“netflix’s anime called great pretender ? is fun”\n",
      "\n",
      "“put a question mark when you’re not sure of the tittle ㅋㅋㅋㅋㅋㅋㅋㅋ”\n",
      "RT @NetflixID: Berlin, Tokyo, Denver, Moscow, Rio, Nairobi, Helsinki, dan Oslo udah kumpul untuk perampokan mata uang baru Korea 🔥 Money He…\n",
      "RT @NetflixID: Berlin, Tokyo, Denver, Moscow, Rio, Nairobi, Helsinki, dan Oslo udah kumpul untuk perampokan mata uang baru Korea 🔥 Money He…\n",
      "RT @NetflixMY: Dah ready ke untuk geng perompak baru curi hati korang? ⚠️💖 Money Heist: Korea - Joint Economic Area akan datang ke Netflix,…\n",
      "#ฮเยมบับเบิ้ล \n",
      "20:08pm\n",
      "🐻‍❄: ใช่ค่ะ Money Heist ก็รอดูอยู่เหมือนกัน🥺 คุณจอนจงซอทั้งเท่ทั้งสวย \n",
      "🐻‍❄: ㅇสวยมากเลย 👍\n",
      "RT @docrocktex26: How much money is set aside for mental health services in the Trump/GOP budget? How many resources were cut to accommodat…\n",
      "RT @imemerang: Drama 7 hari mencintaimu lebih complicated dari Euphoria,Penthouse,Money heist,Fifthy shade of pak samad.\n",
      "RT @kdrama_menfess: MONEY HEIST KOREA\n",
      "\n",
      "Ada total 12 episode, tapi 24 Juni ini baru tayang yg part 1 (6 episode). WHOAAAAA!!!!!🤯🤯🤯  •kdm•…\n",
      "RT @iconickdramas: Main poster of the Korean remake of Money Heist 🔥#MoneyHeistKorea_JointEconomicArea https://t.co/yzKqRHAGaf\n",
      "RT @TheRealMJNcube: Here is my list of the top 10 TV series ever made.\n",
      "\n",
      "10 Prison Break\n",
      "9 I'sthunzi\n",
      "8 Ozark \n",
      "7 Better Call Saul\n",
      "6 Money Hei…\n",
      "Money heist volumes start panan ivanum panran. Chei https://t.co/KltvAyBneN\n",
      "عمران خان نے قوم کو ارتغرل دیکھنے کا مشورہ دیا تھا،\n",
      "شہباز شریف کا \"Money Heist\" اردو میں ڈب کروا کے PTV پہ نشر کرنے کا فیصلہ۔\n",
      "RT @TheRealMJNcube: Here is my list of the top 10 TV series ever made.\n",
      "\n",
      "10 Prison Break\n",
      "9 I'sthunzi\n",
      "8 Ozark \n",
      "7 Better Call Saul\n",
      "6 Money Hei…\n",
      "RT @netflixgolden: Mark your calendars: Money Heist: Korea - Joint Economic Area premieres June 24, only on Netflix. https://t.co/Qt0bCk9KP7\n",
      "@mohamedLucifer1 Radheshyam is Prabhas's movie...So watched it completely....❤😅\n",
      "\n",
      "Cant complete Money heist...Too lengthy and felt boring...🤧\n",
      "The trailer for Money Heist: Korea - looks so good! I’m a big fan of the original, so I look forward to this. Also since Jeon Jong Seo is playing Tokyo, it’ll def be something🙌 https://t.co/EXDct96hFV\n",
      "RT @iconickdramas: Main poster of the Korean remake of Money Heist 🔥#MoneyHeistKorea_JointEconomicArea https://t.co/yzKqRHAGaf\n",
      "RT @NetflixID: Berlin, Tokyo, Denver, Moscow, Rio, Nairobi, Helsinki, dan Oslo udah kumpul untuk perampokan mata uang baru Korea 🔥 Money He…\n",
      "RT @KSeriesAD: [Poster] Money Heist : Korea - Joint Economic Area(종이의 집: 공동경제구역) ทาง Netflix ยูจีแท คิมยุนจิน พัคแฮซู จอนจงซอ ออนแอร์ 24 มิ…\n",
      "RT @docrocktex26: How much money is set aside for mental health services in the Trump/GOP budget? How many resources were cut to accommodat…\n",
      "MONEY HEIST பாணியில் நூதன கொள்ளை... வசமாய் சிக்கிய ஜோடிகள்!\n",
      "#RubbingCase #HusbandWifeArrested #Erode #ErodePolice #Policecase #latesttamilnadunews\n",
      "click...https://t.co/KOk9wTaqZt https://t.co/jfIaXns9lb\n",
      "Popcaan - Money Heist (Clean Edit)\n",
      "RT @KSeriesAD: [Poster] Money Heist : Korea - Joint Economic Area(종이의 집: 공동경제구역) ทาง Netflix ยูจีแท คิมยุนจิน พัคแฮซู จอนจงซอ ออนแอร์ 24 มิ…\n",
      "RT @NetflixID: Berlin, Tokyo, Denver, Moscow, Rio, Nairobi, Helsinki, dan Oslo udah kumpul untuk perampokan mata uang baru Korea 🔥 Money He…\n",
      "@MissNamwaba Power\n",
      "The Originals\n",
      "Money heist\n",
      "Prison break\n",
      "RT @Jben444: Been trying to explain or Warn Americans for 40 Years.  Finally in 2016 @NYTimes Agreed-Called out DonaldTrump #maga @SenateGo…\n",
      "RT @NetflixID: Berlin, Tokyo, Denver, Moscow, Rio, Nairobi, Helsinki, dan Oslo udah kumpul untuk perampokan mata uang baru Korea 🔥 Money He…\n",
      "Hit İspanyol Dizisi #LaCasadePapel'in Kore Versiyonu Olan #MoneyHeistKorea_JointEconomicArea İçin Ana Poster Yayımlandı\n",
      "\n",
      "#Netflix #KDrama #KDramas #KoreanDrama \n",
      "\n",
      "https://t.co/BG7bHuuvbk\n",
      "RT @NetflixMY: Dah ready ke untuk geng perompak baru curi hati korang? ⚠️💖 Money Heist: Korea - Joint Economic Area akan datang ke Netflix,…\n",
      "RT @slashwears: @3reeple7 @the_Lawrenz In addition to this, watch money heist season 2 and I realized the background animation is hundred n…\n",
      "RT @docrocktex26: How much money is set aside for mental health services in the Trump/GOP budget? How many resources were cut to accommodat…\n",
      "RT @KSeriesAD: [Poster] Money Heist : Korea - Joint Economic Area(종이의 집: 공동경제구역) ทาง Netflix ยูจีแท คิมยุนจิน พัคแฮซู จอนจงซอ ออนแอร์ 24 มิ…\n",
      "hairul gelak mcm denver money heist :)\n",
      "RT @iconickdramas: Main poster of the Korean remake of Money Heist 🔥#MoneyHeistKorea_JointEconomicArea https://t.co/yzKqRHAGaf\n",
      "@Onu__oha @MrOdanz @segalink Same thought, he already have his plan.... is like Professor in Money Heist. PDP is just to get the audience, if NNPP rejected him, it's just another distraction. Eitherway, he's already buying time to know if Nigerians are still following up, and they're until he announced.\n",
      "RT @docrocktex26: How much money is set aside for mental health services in the Trump/GOP budget? How many resources were cut to accommodat…\n",
      "Tried to watch Money Heist, not for me I guess. Too many loopholes and unnecessary steamy scene 🌚 \n",
      "\n",
      "But I’m looking forward for the KR ver.\n",
      "RT @adyppp: -Bloody heart\n",
      "-The Sound of Magic\n",
      "-Woori The Virgin\n",
      "-Rose mansion\n",
      "-Welcome to wedding hell \n",
      "-Kiss Sixth Sense\n",
      "\n",
      "Upcoming\n",
      "-Eve\n",
      "-D…\n",
      "RT @iconickdramas: Main poster of the Korean remake of Money Heist 🔥#MoneyHeistKorea_JointEconomicArea https://t.co/yzKqRHAGaf\n",
      "sabay kayang iddrop eps ng money heist ¿\n",
      "yung money heist nga nire watch ko pa yung season 4, yung stranger things pa kaya. Nakalimutan ko na sa tagal 😂🙈\n",
      "jujurly penasaran money heist korea tar “bella ciao”nya lagu kpop apaan\n",
      "@AwaisAh03934451 @MaryamNSharif Bai tm Money heist k professor se kafi impress dikhty ho?\n",
      "@First_alphas Bro you forgot money heist\n",
      "RT @__cmdmmdamhmkm: i'll watch money heist korea for the plot\n",
      "\n",
      "the plot: https://t.co/4i4beJi5hE\n",
      "RT @adyppp: -Bloody heart\n",
      "-The Sound of Magic\n",
      "-Woori The Virgin\n",
      "-Rose mansion\n",
      "-Welcome to wedding hell \n",
      "-Kiss Sixth Sense\n",
      "\n",
      "Upcoming\n",
      "-Eve\n",
      "-D…\n",
      "RT @MoneyHeist_V2: Welcome to Money Heist V2.0 🎭\n",
      "\n",
      "We are glad to announce that our Discord server is now open (Temporarily) we only have li…\n",
      "RT @moviemenfes: MONEY HEIST KOREA\n",
      "\n",
      "Ada total 12 episode, tapi 24 Juni ini baru tayang yg part 1 (6 episode) mvs\n",
      "\n",
      "  https://t.co/1v461gPg77\n",
      "@Tanay_Sharma_3 @kohlission @internetumpire @Manoj_benni another average Money heist fan like you.  @Prajwal41498734\n",
      "RT @kdrama_menfess: MONEY HEIST KOREA\n",
      "\n",
      "Ada total 12 episode, tapi 24 Juni ini baru tayang yg part 1 (6 episode). WHOAAAAA!!!!!🤯🤯🤯  •kdm•…\n",
      "MONEY HEIST KOREA\n",
      "\n",
      "Ada total 12 episode, tapi 24 Juni ini baru tayang yg part 1 (6 episode). WHOAAAAA!!!!!🤯🤯🤯  •kdm•\n",
      "\n",
      " https://t.co/6mor6OSGTj\n",
      "And ano position ko pa non sa tabi ng bintana kasi napakahina ng Smart at Globe di ako makapagmessenger. Si Stephanie naman nakalaptop si Fionna todo nood ng money heist. https://t.co/0JBheN0DtA\n",
      "MONEY HEIST KOREA\n",
      "\n",
      "Ada total 12 episode, tapi 24 Juni ini baru tayang yg part 1 (6 episode) mvs\n",
      "\n",
      "  https://t.co/1v461gPg77\n",
      "RT @namgoongmeng: MONEY HEIST KOREA\n",
      "\n",
      "Ada 12 episode totalnya, tapi 24 Juni ini baru tayang yg part 1 (6 episode). \n",
      "\n",
      "#MoneyHeistKorea_JointE…\n",
      "MONEY HEIST KOREA\n",
      "\n",
      "Ada 12 episode totalnya, tapi 24 Juni ini baru tayang yg part 1 (6 episode). \n",
      "\n",
      "#MoneyHeistKorea_JointEconomicArea https://t.co/WoW8FN8rFf\n",
      "Kurisu was adopted in a new home. This special detective girl (tribute to Alicia Sierra from Netflix série Money Heist \") is now in very good hands. Thank you so much @Headzis1  and welcome to SHIMIKUZA family 🙏❤️😍\n",
      ".\n",
      "https://t.co/hwHL1io9Uh https://t.co/OcA1IHM7aR\n"
     ]
    }
   ],
   "source": [
    "# Tweets\n",
    "for tweet in tweets.data:\n",
    "    print(tweet)"
   ]
  },
  {
   "cell_type": "code",
   "execution_count": 139,
   "metadata": {},
   "outputs": [],
   "source": [
    "# Calling tweets and finding the polarity of the tweets\n",
    "\n",
    "for tweet in tweets.data:\n",
    "    analysis = TextBlob(tweet.text)\n",
    "    polarity += analysis.sentiment.polarity \n",
    "\n",
    "    if (analysis.sentiment.polarity == 0):\n",
    "        neutral +=1\n",
    "        \n",
    "    elif (analysis.sentiment.polarity < 0.00):\n",
    "        negative +=1\n",
    "\n",
    "    elif (analysis.sentiment.polarity > 0.00):\n",
    "        positive +=1"
   ]
  },
  {
   "cell_type": "code",
   "execution_count": 140,
   "metadata": {},
   "outputs": [
    {
     "name": "stdout",
     "output_type": "stream",
     "text": [
      "39\n",
      "23\n",
      "38\n",
      "3.7460097402597397\n"
     ]
    }
   ],
   "source": [
    "print(positive)\n",
    "print(negative)\n",
    "print(neutral)\n",
    "\n",
    "print(polarity)"
   ]
  },
  {
   "cell_type": "code",
   "execution_count": 141,
   "metadata": {},
   "outputs": [],
   "source": [
    "# Defining a function to calculate the percentage\n",
    "\n",
    "def percentage(part, whole):\n",
    "    return 100 * float(part) / float(whole)\n",
    "    "
   ]
  },
  {
   "cell_type": "code",
   "execution_count": 142,
   "metadata": {},
   "outputs": [],
   "source": [
    "positive = percentage(positive, no_of_tweets)\n",
    "negative = percentage(negative, no_of_tweets)\n",
    "neutral = percentage(neutral, no_of_tweets)\n",
    "polarity = percentage(polarity, no_of_tweets)\n"
   ]
  },
  {
   "cell_type": "code",
   "execution_count": 143,
   "metadata": {},
   "outputs": [],
   "source": [
    "positive = format(positive, '.2f')\n",
    "negative = format(negative, '.2f')\n",
    "neutral = format(neutral, '.2f')"
   ]
  },
  {
   "cell_type": "code",
   "execution_count": 144,
   "metadata": {},
   "outputs": [
    {
     "name": "stdout",
     "output_type": "stream",
     "text": [
      "39.00\n",
      "23.00\n",
      "38.00\n",
      "3.7460097402597397\n"
     ]
    }
   ],
   "source": [
    "print(positive)\n",
    "print(negative)\n",
    "print(neutral)\n",
    "print(polarity)"
   ]
  },
  {
   "cell_type": "code",
   "execution_count": 145,
   "metadata": {},
   "outputs": [
    {
     "name": "stdout",
     "output_type": "stream",
     "text": [
      "Reaction of the people on money heist By Analyzing 100 Tweets\n",
      " is 'Positive'\n"
     ]
    }
   ],
   "source": [
    "print(\"Reaction of the people on \" + search_term +\n",
    "    \" By Analyzing \" + str(no_of_tweets) + \" Tweets\")\n",
    "\n",
    "if (polarity ==0):\n",
    "    print(\" is 'Neurtral'\")\n",
    "\n",
    "elif (polarity < 0.00):\n",
    "    print(\" is 'Negative'\")\n",
    "\n",
    "if (polarity > 0.00):\n",
    "    print(\" is 'Positive'\")"
   ]
  },
  {
   "cell_type": "markdown",
   "metadata": {},
   "source": [
    "### Getting the result of analysis"
   ]
  },
  {
   "cell_type": "code",
   "execution_count": 146,
   "metadata": {},
   "outputs": [
    {
     "data": {
      "image/png": "[encoded data removed]",
      "text/plain": [
       "<Figure size 432x288 with 1 Axes>"
      ]
     },
     "metadata": {},
     "output_type": "display_data"
    }
   ],
   "source": [
    "labels = ['Positive ['+str(positive)+'%]', \n",
    "          'Neutral ['+str(neutral)+'%]', \n",
    "          'Negative ['+str(negative)+'%]']\n",
    "\n",
    "sizes = [positive, neutral, negative]\n",
    "colors = ['yellowgreen', 'gold', 'red']\n",
    "\n",
    "patches, texts = plt.pie(sizes, colors = colors, startangle = 90)\n",
    "plt.legend(patches, labels, loc = \"best\")\n",
    "plt.title('Reaction of the people on '\n",
    "          + search_term +' by analyzing '\n",
    "          + str(no_of_tweets) +' Tweets is:')\n",
    "plt.axis('equal')\n",
    "plt.tight_layout()\n",
    "plt.show()"
   ]
  },
  {
   "cell_type": "code",
   "execution_count": null,
   "metadata": {},
   "outputs": [],
   "source": []
  }
 ],
 "metadata": {
  "interpreter": {
   "hash": "7ed6fd353334288ba41d65fffa847485dc25a2c09fb69a2f9e6c04bfa5c4f800"
  },
  "kernelspec": {
   "display_name": "Python 3.8.12 ('base')",
   "language": "python",
   "name": "python3"
  },
  "language_info": {
   "codemirror_mode": {
    "name": "ipython",
    "version": 3
   },
   "file_extension": ".py",
   "mimetype": "text/x-python",
   "name": "python",
   "nbconvert_exporter": "python",
   "pygments_lexer": "ipython3",
   "version": "3.8.12"
  },
  "orig_nbformat": 4
 },
 "nbformat": 4,
 "nbformat_minor": 2
}
